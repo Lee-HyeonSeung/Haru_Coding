{
  "nbformat": 4,
  "nbformat_minor": 0,
  "metadata": {
    "colab": {
      "name": "백준.ipynb",
      "provenance": [],
      "authorship_tag": "ABX9TyOYOr56i1rWfjifvDSuPqEt",
      "include_colab_link": true
    },
    "kernelspec": {
      "name": "python3",
      "display_name": "Python 3"
    },
    "language_info": {
      "name": "python"
    }
  },
  "cells": [
    {
      "cell_type": "markdown",
      "metadata": {
        "id": "view-in-github",
        "colab_type": "text"
      },
      "source": [
        "<a href=\"https://colab.research.google.com/github/Lee-HyeonSeung/Haru_Coding/blob/Cat/%EB%B0%B1%EC%A4%80.ipynb\" target=\"_parent\"><img src=\"https://colab.research.google.com/assets/colab-badge.svg\" alt=\"Open In Colab\"/></a>"
      ]
    },
    {
      "cell_type": "markdown",
      "metadata": {
        "id": "IMceNpilbvYu"
      },
      "source": [
        "# 입출력과 사칙연산"
      ]
    },
    {
      "cell_type": "markdown",
      "metadata": {
        "id": "9H4XXEWib8aa"
      },
      "source": [
        "## 고양이_문제풀이"
      ]
    },
    {
      "cell_type": "markdown",
      "metadata": {
        "id": "r7tAmrjj0Qov"
      },
      "source": [
        "단순히 print문과 이스케이프구문(\\n)을 사용하는 문제라고 생각했다. 그렇게 코딩한 결과,"
      ]
    },
    {
      "cell_type": "code",
      "metadata": {
        "colab": {
          "base_uri": "https://localhost:8080/"
        },
        "id": "nnv3r81Kb_c2",
        "outputId": "75cb14ec-0da6-4147-ca01-53cb2ff9e2e9"
      },
      "source": [
        "print(\"\\    /\\\\n )  ( ')\\n(  /  )\\n \\(__)|\")"
      ],
      "execution_count": null,
      "outputs": [
        {
          "output_type": "stream",
          "name": "stdout",
          "text": [
            "\\    /\\n )  ( ')\n",
            "(  /  )\n",
            " \\(__)|\n"
          ]
        }
      ]
    },
    {
      "cell_type": "markdown",
      "metadata": {
        "id": "KZV_CzAg0dUm"
      },
      "source": [
        "다음과 같이 '\\'문자로 프린트되었다.\n",
        "\n",
        "백준 내 서치결과 \\는 폰트차이로 정답과 상관없다고 한다.\n",
        "\n",
        "/\\n 부분이 오류로 생각되어 다음과 같이 바꾸어주니"
      ]
    },
    {
      "cell_type": "code",
      "metadata": {
        "colab": {
          "base_uri": "https://localhost:8080/"
        },
        "id": "8SSiKq8bcAmn",
        "outputId": "2c342fb6-beac-46e2-a39b-0cc6e7b81bf2"
      },
      "source": [
        "print(\"\\    /\\ \\n )  ( ')\\n(  /  )\\n \\(__)|\")"
      ],
      "execution_count": null,
      "outputs": [
        {
          "output_type": "stream",
          "name": "stdout",
          "text": [
            "\\    /\\ \n",
            " )  ( ')\n",
            "(  /  )\n",
            " \\(__)|\n"
          ]
        }
      ]
    },
    {
      "cell_type": "markdown",
      "metadata": {
        "id": "OJvTYKJa0j6F"
      },
      "source": [
        "오류는 \\\\ 두 개를 붙여쓴 것이었고, 이를 띄어주니 정답!"
      ]
    },
    {
      "cell_type": "markdown",
      "metadata": {
        "id": "tx7R_ApuDgHM"
      },
      "source": [
        "### 개_문제풀이"
      ]
    },
    {
      "cell_type": "markdown",
      "metadata": {
        "id": "GMuH_CEUDm5j"
      },
      "source": [
        "어제의 경험으로 단순 이스케이프문의 문제가 아닐 것이라 생각했다. 그래도 일단 \\n 문으로만 코드를 실행했다."
      ]
    },
    {
      "cell_type": "code",
      "metadata": {
        "colab": {
          "base_uri": "https://localhost:8080/",
          "height": 136
        },
        "id": "7EzNM2CqD24C",
        "outputId": "9c9226e8-2351-4d9b-a8ef-29d34e9689cd"
      },
      "source": [
        "print(\"|\\_/|\\n|q p|   /}\\n( 0 )\"\"\"\\\\n|\"^\"`    |\\n||_/=\\\\__|\")"
      ],
      "execution_count": 3,
      "outputs": [
        {
          "output_type": "error",
          "ename": "SyntaxError",
          "evalue": "ignored",
          "traceback": [
            "\u001b[0;36m  File \u001b[0;32m\"<ipython-input-3-e86697c316f3>\"\u001b[0;36m, line \u001b[0;32m1\u001b[0m\n\u001b[0;31m    print(\"|\\_/|\\n|q p|   /}\\n( 0 )\"\"\"\\\\n|\"^\"`    |\\n||_/=\\\\__|\")\u001b[0m\n\u001b[0m                                                                 ^\u001b[0m\n\u001b[0;31mSyntaxError\u001b[0m\u001b[0;31m:\u001b[0m unexpected character after line continuation character\n"
          ]
        }
      ]
    },
    {
      "cell_type": "markdown",
      "metadata": {
        "id": "aiESjKY0Ef-7"
      },
      "source": [
        "큰 따옴표가 출력문자에 포함되어 있어서 오류가 나는 것 같다. 이를 해결해야한다. 이를 위해 작은 따옴표로 문자를 지정해보자"
      ]
    },
    {
      "cell_type": "code",
      "metadata": {
        "colab": {
          "base_uri": "https://localhost:8080/"
        },
        "id": "17m-TvW2F1ST",
        "outputId": "e4ce95a5-06b9-4de4-e7e8-a1fcc03d482d"
      },
      "source": [
        "print('|\\_/|\\n|q p|   /}\\n( 0 )\"\"\"\\\\n|\"^\"`    |\\n||_/=\\\\__|')"
      ],
      "execution_count": 4,
      "outputs": [
        {
          "output_type": "stream",
          "name": "stdout",
          "text": [
            "|\\_/|\n",
            "|q p|   /}\n",
            "( 0 )\"\"\"\\n|\"^\"`    |\n",
            "||_/=\\__|\n"
          ]
        }
      ]
    },
    {
      "cell_type": "markdown",
      "metadata": {
        "id": "k_Ciae9VGM4r"
      },
      "source": [
        "역슬래쉬가 중복되어 '\\n'가 그대로 출력되었다. 둘을 띄어주자"
      ]
    },
    {
      "cell_type": "code",
      "metadata": {
        "colab": {
          "base_uri": "https://localhost:8080/"
        },
        "id": "nyBQZcojGZsi",
        "outputId": "563bc46e-6533-41fb-de64-36657c9f4a05"
      },
      "source": [
        "print('|\\_/|\\n|q p|   /}\\n( 0 )\"\"\"\\ \\n|\"^\"`    |\\n||_/=\\\\__|')"
      ],
      "execution_count": 5,
      "outputs": [
        {
          "output_type": "stream",
          "name": "stdout",
          "text": [
            "|\\_/|\n",
            "|q p|   /}\n",
            "( 0 )\"\"\"\\ \n",
            "|\"^\"`    |\n",
            "||_/=\\__|\n"
          ]
        }
      ]
    },
    {
      "cell_type": "markdown",
      "metadata": {
        "id": "xEfhYXv3HBtO"
      },
      "source": [
        "마지막 줄에 역슬래쉬 두개가 붙어있어 하나만 출력되었다. 따라서, 역슬래쉬를 하나 더 붙혀준다."
      ]
    },
    {
      "cell_type": "code",
      "metadata": {
        "colab": {
          "base_uri": "https://localhost:8080/"
        },
        "id": "cUJ16jqQHeQq",
        "outputId": "3dd9ac93-1f2f-4e82-ce23-6731e9b0f546"
      },
      "source": [
        "print('|\\_/|\\n|q p|   /}\\n( 0 )\"\"\"\\ \\n|\"^\"`    |\\n||_/=\\\\\\__|')"
      ],
      "execution_count": 6,
      "outputs": [
        {
          "output_type": "stream",
          "name": "stdout",
          "text": [
            "|\\_/|\n",
            "|q p|   /}\n",
            "( 0 )\"\"\"\\ \n",
            "|\"^\"`    |\n",
            "||_/=\\\\__|\n"
          ]
        }
      ]
    }
  ]
}