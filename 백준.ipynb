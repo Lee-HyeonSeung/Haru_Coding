{
  "nbformat": 4,
  "nbformat_minor": 0,
  "metadata": {
    "colab": {
      "name": "백준.ipynb",
      "provenance": [],
      "authorship_tag": "ABX9TyOYdmcwXrOkaWPIe1EApjGg",
      "include_colab_link": true
    },
    "kernelspec": {
      "name": "python3",
      "display_name": "Python 3"
    },
    "language_info": {
      "name": "python"
    }
  },
  "cells": [
    {
      "cell_type": "markdown",
      "metadata": {
        "id": "view-in-github",
        "colab_type": "text"
      },
      "source": [
        "<a href=\"https://colab.research.google.com/github/Lee-HyeonSeung/Haru_Coding/blob/Cat/%EB%B0%B1%EC%A4%80.ipynb\" target=\"_parent\"><img src=\"https://colab.research.google.com/assets/colab-badge.svg\" alt=\"Open In Colab\"/></a>"
      ]
    },
    {
      "cell_type": "markdown",
      "metadata": {
        "id": "IMceNpilbvYu"
      },
      "source": [
        "# 입출력과 사칙연산"
      ]
    },
    {
      "cell_type": "markdown",
      "metadata": {
        "id": "9H4XXEWib8aa"
      },
      "source": [
        "## 고양이_문제풀이"
      ]
    },
    {
      "cell_type": "markdown",
      "metadata": {
        "id": "r7tAmrjj0Qov"
      },
      "source": [
        "단순히 print문과 이스케이프구문(\\n)을 사용하는 문제라고 생각했다. 그렇게 코딩한 결과,"
      ]
    },
    {
      "cell_type": "code",
      "metadata": {
        "colab": {
          "base_uri": "https://localhost:8080/"
        },
        "id": "nnv3r81Kb_c2",
        "outputId": "75cb14ec-0da6-4147-ca01-53cb2ff9e2e9"
      },
      "source": [
        "print(\"\\    /\\\\n )  ( ')\\n(  /  )\\n \\(__)|\")"
      ],
      "execution_count": 1,
      "outputs": [
        {
          "output_type": "stream",
          "name": "stdout",
          "text": [
            "\\    /\\n )  ( ')\n",
            "(  /  )\n",
            " \\(__)|\n"
          ]
        }
      ]
    },
    {
      "cell_type": "markdown",
      "metadata": {
        "id": "KZV_CzAg0dUm"
      },
      "source": [
        "다음과 같이 '\\'문자로 프린트되었다.\n",
        "\n",
        "백준 내 서치결과 \\는 폰트차이로 정답과 상관없다고 한다.\n",
        "\n",
        "/\\n 부분이 오류로 생각되어 다음과 같이 바꾸어주니"
      ]
    },
    {
      "cell_type": "code",
      "metadata": {
        "colab": {
          "base_uri": "https://localhost:8080/"
        },
        "id": "8SSiKq8bcAmn",
        "outputId": "2c342fb6-beac-46e2-a39b-0cc6e7b81bf2"
      },
      "source": [
        "print(\"\\    /\\ \\n )  ( ')\\n(  /  )\\n \\(__)|\")"
      ],
      "execution_count": 2,
      "outputs": [
        {
          "output_type": "stream",
          "name": "stdout",
          "text": [
            "\\    /\\ \n",
            " )  ( ')\n",
            "(  /  )\n",
            " \\(__)|\n"
          ]
        }
      ]
    },
    {
      "cell_type": "markdown",
      "metadata": {
        "id": "OJvTYKJa0j6F"
      },
      "source": [
        "오류는 \\\\ 두 개를 붙여쓴 것이었고, 이를 띄어주니 정답!"
      ]
    }
  ]
}