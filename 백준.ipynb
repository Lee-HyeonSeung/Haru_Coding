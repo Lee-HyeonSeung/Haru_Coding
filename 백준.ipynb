{
  "nbformat": 4,
  "nbformat_minor": 0,
  "metadata": {
    "colab": {
      "name": "백준.ipynb",
      "provenance": [],
      "authorship_tag": "ABX9TyPxbdJDYaGmsXzdaqH6Db2x",
      "include_colab_link": true
    },
    "kernelspec": {
      "name": "python3",
      "display_name": "Python 3"
    },
    "language_info": {
      "name": "python"
    }
  },
  "cells": [
    {
      "cell_type": "markdown",
      "metadata": {
        "id": "view-in-github",
        "colab_type": "text"
      },
      "source": [
        "<a href=\"https://colab.research.google.com/github/Lee-HyeonSeung/Haru_Coding/blob/Cat/%EB%B0%B1%EC%A4%80.ipynb\" target=\"_parent\"><img src=\"https://colab.research.google.com/assets/colab-badge.svg\" alt=\"Open In Colab\"/></a>"
      ]
    },
    {
      "cell_type": "markdown",
      "metadata": {
        "id": "IMceNpilbvYu"
      },
      "source": [
        "# 입출력과 사칙연산"
      ]
    },
    {
      "cell_type": "markdown",
      "metadata": {
        "id": "9H4XXEWib8aa"
      },
      "source": [
        "## 고양이_문제풀이"
      ]
    },
    {
      "cell_type": "markdown",
      "metadata": {
        "id": "r7tAmrjj0Qov"
      },
      "source": [
        "단순히 print문과 이스케이프구문(\\n)을 사용하는 문제라고 생각했다. 그렇게 코딩한 결과,"
      ]
    },
    {
      "cell_type": "code",
      "metadata": {
        "colab": {
          "base_uri": "https://localhost:8080/"
        },
        "id": "nnv3r81Kb_c2",
        "outputId": "75cb14ec-0da6-4147-ca01-53cb2ff9e2e9"
      },
      "source": [
        "print(\"\\    /\\\\n )  ( ')\\n(  /  )\\n \\(__)|\")"
      ],
      "execution_count": null,
      "outputs": [
        {
          "output_type": "stream",
          "name": "stdout",
          "text": [
            "\\    /\\n )  ( ')\n",
            "(  /  )\n",
            " \\(__)|\n"
          ]
        }
      ]
    },
    {
      "cell_type": "markdown",
      "metadata": {
        "id": "KZV_CzAg0dUm"
      },
      "source": [
        "다음과 같이 '\\'문자로 프린트되었다.\n",
        "\n",
        "백준 내 서치결과 \\는 폰트차이로 정답과 상관없다고 한다.\n",
        "\n",
        "/\\n 부분이 오류로 생각되어 다음과 같이 바꾸어주니"
      ]
    },
    {
      "cell_type": "code",
      "metadata": {
        "colab": {
          "base_uri": "https://localhost:8080/"
        },
        "id": "8SSiKq8bcAmn",
        "outputId": "2c342fb6-beac-46e2-a39b-0cc6e7b81bf2"
      },
      "source": [
        "print(\"\\    /\\ \\n )  ( ')\\n(  /  )\\n \\(__)|\")"
      ],
      "execution_count": null,
      "outputs": [
        {
          "output_type": "stream",
          "name": "stdout",
          "text": [
            "\\    /\\ \n",
            " )  ( ')\n",
            "(  /  )\n",
            " \\(__)|\n"
          ]
        }
      ]
    },
    {
      "cell_type": "markdown",
      "metadata": {
        "id": "OJvTYKJa0j6F"
      },
      "source": [
        "오류는 \\\\ 두 개를 붙여쓴 것이었고, 이를 띄어주니 정답!"
      ]
    },
    {
      "cell_type": "markdown",
      "metadata": {
        "id": "tx7R_ApuDgHM"
      },
      "source": [
        "### 개_문제풀이"
      ]
    },
    {
      "cell_type": "markdown",
      "metadata": {
        "id": "GMuH_CEUDm5j"
      },
      "source": [
        "어제의 경험으로 단순 이스케이프문의 문제가 아닐 것이라 생각했다. 그래도 일단 \\n 문으로만 코드를 실행했다."
      ]
    },
    {
      "cell_type": "code",
      "metadata": {
        "colab": {
          "base_uri": "https://localhost:8080/",
          "height": 136
        },
        "id": "7EzNM2CqD24C",
        "outputId": "9c9226e8-2351-4d9b-a8ef-29d34e9689cd"
      },
      "source": [
        "print(\"|\\_/|\\n|q p|   /}\\n( 0 )\"\"\"\\\\n|\"^\"`    |\\n||_/=\\\\__|\")"
      ],
      "execution_count": null,
      "outputs": [
        {
          "output_type": "error",
          "ename": "SyntaxError",
          "evalue": "ignored",
          "traceback": [
            "\u001b[0;36m  File \u001b[0;32m\"<ipython-input-3-e86697c316f3>\"\u001b[0;36m, line \u001b[0;32m1\u001b[0m\n\u001b[0;31m    print(\"|\\_/|\\n|q p|   /}\\n( 0 )\"\"\"\\\\n|\"^\"`    |\\n||_/=\\\\__|\")\u001b[0m\n\u001b[0m                                                                 ^\u001b[0m\n\u001b[0;31mSyntaxError\u001b[0m\u001b[0;31m:\u001b[0m unexpected character after line continuation character\n"
          ]
        }
      ]
    },
    {
      "cell_type": "markdown",
      "metadata": {
        "id": "aiESjKY0Ef-7"
      },
      "source": [
        "큰 따옴표가 출력문자에 포함되어 있어서 오류가 나는 것 같다. 이를 해결해야한다. 이를 위해 작은 따옴표로 문자를 지정해보자"
      ]
    },
    {
      "cell_type": "code",
      "metadata": {
        "colab": {
          "base_uri": "https://localhost:8080/"
        },
        "id": "17m-TvW2F1ST",
        "outputId": "e4ce95a5-06b9-4de4-e7e8-a1fcc03d482d"
      },
      "source": [
        "print('|\\_/|\\n|q p|   /}\\n( 0 )\"\"\"\\\\n|\"^\"`    |\\n||_/=\\\\__|')"
      ],
      "execution_count": null,
      "outputs": [
        {
          "output_type": "stream",
          "name": "stdout",
          "text": [
            "|\\_/|\n",
            "|q p|   /}\n",
            "( 0 )\"\"\"\\n|\"^\"`    |\n",
            "||_/=\\__|\n"
          ]
        }
      ]
    },
    {
      "cell_type": "markdown",
      "metadata": {
        "id": "k_Ciae9VGM4r"
      },
      "source": [
        "역슬래쉬가 중복되어 '\\n'가 그대로 출력되었다. 둘을 띄어주자"
      ]
    },
    {
      "cell_type": "code",
      "metadata": {
        "colab": {
          "base_uri": "https://localhost:8080/"
        },
        "id": "nyBQZcojGZsi",
        "outputId": "563bc46e-6533-41fb-de64-36657c9f4a05"
      },
      "source": [
        "print('|\\_/|\\n|q p|   /}\\n( 0 )\"\"\"\\ \\n|\"^\"`    |\\n||_/=\\\\__|')"
      ],
      "execution_count": null,
      "outputs": [
        {
          "output_type": "stream",
          "name": "stdout",
          "text": [
            "|\\_/|\n",
            "|q p|   /}\n",
            "( 0 )\"\"\"\\ \n",
            "|\"^\"`    |\n",
            "||_/=\\__|\n"
          ]
        }
      ]
    },
    {
      "cell_type": "markdown",
      "metadata": {
        "id": "xEfhYXv3HBtO"
      },
      "source": [
        "마지막 줄에 역슬래쉬 두개가 붙어있어 하나만 출력되었다. 따라서, 역슬래쉬를 하나 더 붙혀준다."
      ]
    },
    {
      "cell_type": "code",
      "metadata": {
        "colab": {
          "base_uri": "https://localhost:8080/"
        },
        "id": "cUJ16jqQHeQq",
        "outputId": "3dd9ac93-1f2f-4e82-ce23-6731e9b0f546"
      },
      "source": [
        "print('|\\_/|\\n|q p|   /}\\n( 0 )\"\"\"\\ \\n|\"^\"`    |\\n||_/=\\\\\\__|')"
      ],
      "execution_count": null,
      "outputs": [
        {
          "output_type": "stream",
          "name": "stdout",
          "text": [
            "|\\_/|\n",
            "|q p|   /}\n",
            "( 0 )\"\"\"\\ \n",
            "|\"^\"`    |\n",
            "||_/=\\\\__|\n"
          ]
        }
      ]
    },
    {
      "cell_type": "markdown",
      "metadata": {
        "id": "LVI2EuDBO0du"
      },
      "source": [
        "### A+B"
      ]
    },
    {
      "cell_type": "code",
      "metadata": {
        "colab": {
          "base_uri": "https://localhost:8080/"
        },
        "id": "VhBP2BDNO6Ad",
        "outputId": "6d86a74e-35c8-4027-edbf-00a47fc8fae4"
      },
      "source": [
        "a, b = -5,9\n",
        "print(a+b)"
      ],
      "execution_count": 2,
      "outputs": [
        {
          "output_type": "stream",
          "name": "stdout",
          "text": [
            "4\n"
          ]
        }
      ]
    },
    {
      "cell_type": "markdown",
      "metadata": {
        "id": "hw7BPfQaPqpZ"
      },
      "source": [
        "입출력 관련이니 print 함수가 아닌 input을 사용해야할 것 같다. "
      ]
    },
    {
      "cell_type": "code",
      "metadata": {
        "colab": {
          "base_uri": "https://localhost:8080/",
          "height": 208
        },
        "id": "hmi2VpE0Rvsu",
        "outputId": "dd30b4a8-31ea-4898-da0b-9ac09cd829be"
      },
      "source": [
        "a,b = input()\n",
        "print(a+b)"
      ],
      "execution_count": 6,
      "outputs": [
        {
          "name": "stdout",
          "output_type": "stream",
          "text": [
            "-5 10\n"
          ]
        },
        {
          "output_type": "error",
          "ename": "ValueError",
          "evalue": "ignored",
          "traceback": [
            "\u001b[0;31m---------------------------------------------------------------------------\u001b[0m",
            "\u001b[0;31mValueError\u001b[0m                                Traceback (most recent call last)",
            "\u001b[0;32m<ipython-input-6-2c62f68984dc>\u001b[0m in \u001b[0;36m<module>\u001b[0;34m()\u001b[0m\n\u001b[0;32m----> 1\u001b[0;31m \u001b[0ma\u001b[0m\u001b[0;34m,\u001b[0m\u001b[0mb\u001b[0m \u001b[0;34m=\u001b[0m \u001b[0minput\u001b[0m\u001b[0;34m(\u001b[0m\u001b[0;34m)\u001b[0m\u001b[0;34m\u001b[0m\u001b[0;34m\u001b[0m\u001b[0m\n\u001b[0m\u001b[1;32m      2\u001b[0m \u001b[0mprint\u001b[0m\u001b[0;34m(\u001b[0m\u001b[0ma\u001b[0m\u001b[0;34m+\u001b[0m\u001b[0mb\u001b[0m\u001b[0;34m)\u001b[0m\u001b[0;34m\u001b[0m\u001b[0;34m\u001b[0m\u001b[0m\n",
            "\u001b[0;31mValueError\u001b[0m: too many values to unpack (expected 2)"
          ]
        }
      ]
    },
    {
      "cell_type": "markdown",
      "metadata": {
        "id": "cfz7kpvpSvHN"
      },
      "source": [
        "두 개의 인자를 받고 공백기준으로 분리하는 것이 필요하다. 조건문도 추가한다."
      ]
    },
    {
      "cell_type": "code",
      "metadata": {
        "colab": {
          "base_uri": "https://localhost:8080/",
          "height": 244
        },
        "id": "4HcSSpHqS3CE",
        "outputId": "f3c3f493-9a9a-4fb1-ab35-aa377333065b"
      },
      "source": [
        "a,b = input().split()\n",
        "\n",
        "if a>0 and b<10 :\n",
        "  print(a+b)"
      ],
      "execution_count": 7,
      "outputs": [
        {
          "name": "stdout",
          "output_type": "stream",
          "text": [
            "5 6\n"
          ]
        },
        {
          "output_type": "error",
          "ename": "TypeError",
          "evalue": "ignored",
          "traceback": [
            "\u001b[0;31m---------------------------------------------------------------------------\u001b[0m",
            "\u001b[0;31mTypeError\u001b[0m                                 Traceback (most recent call last)",
            "\u001b[0;32m<ipython-input-7-425ee9ab0b4e>\u001b[0m in \u001b[0;36m<module>\u001b[0;34m()\u001b[0m\n\u001b[1;32m      1\u001b[0m \u001b[0ma\u001b[0m\u001b[0;34m,\u001b[0m\u001b[0mb\u001b[0m \u001b[0;34m=\u001b[0m \u001b[0minput\u001b[0m\u001b[0;34m(\u001b[0m\u001b[0;34m)\u001b[0m\u001b[0;34m.\u001b[0m\u001b[0msplit\u001b[0m\u001b[0;34m(\u001b[0m\u001b[0;34m)\u001b[0m\u001b[0;34m\u001b[0m\u001b[0;34m\u001b[0m\u001b[0m\n\u001b[1;32m      2\u001b[0m \u001b[0;34m\u001b[0m\u001b[0m\n\u001b[0;32m----> 3\u001b[0;31m \u001b[0;32mif\u001b[0m \u001b[0ma\u001b[0m\u001b[0;34m>\u001b[0m\u001b[0;36m0\u001b[0m \u001b[0;32mand\u001b[0m \u001b[0mb\u001b[0m\u001b[0;34m<\u001b[0m\u001b[0;36m10\u001b[0m \u001b[0;34m:\u001b[0m\u001b[0;34m\u001b[0m\u001b[0;34m\u001b[0m\u001b[0m\n\u001b[0m\u001b[1;32m      4\u001b[0m   \u001b[0mprint\u001b[0m\u001b[0;34m(\u001b[0m\u001b[0ma\u001b[0m\u001b[0;34m+\u001b[0m\u001b[0mb\u001b[0m\u001b[0;34m)\u001b[0m\u001b[0;34m\u001b[0m\u001b[0;34m\u001b[0m\u001b[0m\n",
            "\u001b[0;31mTypeError\u001b[0m: '>' not supported between instances of 'str' and 'int'"
          ]
        }
      ]
    },
    {
      "cell_type": "markdown",
      "metadata": {
        "id": "sD_aG8TSTl_g"
      },
      "source": [
        "a,b 인자가 structure 이라 오류가 난다. "
      ]
    },
    {
      "cell_type": "code",
      "metadata": {
        "colab": {
          "base_uri": "https://localhost:8080/"
        },
        "id": "0ooEsRwRTvHN",
        "outputId": "6500b4a1-32e5-4039-fd98-c44114cd8c7e"
      },
      "source": [
        "a,b = input().split()\n",
        "\n",
        "if float(a)>0 and float(b)<10 :\n",
        "  print(a+b)"
      ],
      "execution_count": 10,
      "outputs": [
        {
          "output_type": "stream",
          "name": "stdout",
          "text": [
            "5 6\n",
            "56\n"
          ]
        }
      ]
    },
    {
      "cell_type": "markdown",
      "metadata": {
        "id": "oO7PtX5oUK5s"
      },
      "source": [
        "str 형이라 + 연산 시 문자 둘을 합친다. 따라서, 실수로 변환한다. "
      ]
    },
    {
      "cell_type": "code",
      "metadata": {
        "colab": {
          "base_uri": "https://localhost:8080/"
        },
        "id": "u3iIFd6NUTfF",
        "outputId": "132addad-9fd3-4c8e-bbfe-11b29cda3c61"
      },
      "source": [
        "a,b = input().split()\n",
        "\n",
        "if float(a)>0 and float(b)<10 :\n",
        "  print(float(a)+float(b))"
      ],
      "execution_count": 14,
      "outputs": [
        {
          "output_type": "stream",
          "name": "stdout",
          "text": [
            "5 6\n",
            "11.0\n"
          ]
        }
      ]
    },
    {
      "cell_type": "markdown",
      "metadata": {
        "id": "XM1MnMFKUbdt"
      },
      "source": [
        "a,b 인자를 처음부터 float으로 지정한다면 불필요한 코드를 줄일 수 있을 것 같다. "
      ]
    },
    {
      "cell_type": "code",
      "metadata": {
        "colab": {
          "base_uri": "https://localhost:8080/",
          "height": 136
        },
        "id": "TZ-ImowxUup-",
        "outputId": "136fe98d-5f15-4afc-e63b-112396e59230"
      },
      "source": [
        "float(a),float(b) = input().split()\n",
        "\n",
        "if a>0 and b<10 :\n",
        "  print(a+b)"
      ],
      "execution_count": 12,
      "outputs": [
        {
          "output_type": "error",
          "ename": "SyntaxError",
          "evalue": "ignored",
          "traceback": [
            "\u001b[0;36m  File \u001b[0;32m\"<ipython-input-12-d8c11bace951>\"\u001b[0;36m, line \u001b[0;32m1\u001b[0m\n\u001b[0;31m    float(a),float(b) = input().split()\u001b[0m\n\u001b[0m                                       ^\u001b[0m\n\u001b[0;31mSyntaxError\u001b[0m\u001b[0;31m:\u001b[0m can't assign to function call\n"
          ]
        }
      ]
    },
    {
      "cell_type": "code",
      "metadata": {
        "colab": {
          "base_uri": "https://localhost:8080/",
          "height": 262
        },
        "id": "sZpAlD0GU6tm",
        "outputId": "49fd1ed9-4e88-4b93-ffc6-d6bbb07cb6d0"
      },
      "source": [
        "a,b = input().split()\n",
        "a.astype('float')\n",
        "b.astype('float')\n",
        "\n",
        "if a>0 and b<10 :\n",
        "  print(a+b)"
      ],
      "execution_count": 13,
      "outputs": [
        {
          "name": "stdout",
          "output_type": "stream",
          "text": [
            "5 6\n"
          ]
        },
        {
          "output_type": "error",
          "ename": "AttributeError",
          "evalue": "ignored",
          "traceback": [
            "\u001b[0;31m---------------------------------------------------------------------------\u001b[0m",
            "\u001b[0;31mAttributeError\u001b[0m                            Traceback (most recent call last)",
            "\u001b[0;32m<ipython-input-13-d1d1d3f0129a>\u001b[0m in \u001b[0;36m<module>\u001b[0;34m()\u001b[0m\n\u001b[1;32m      1\u001b[0m \u001b[0ma\u001b[0m\u001b[0;34m,\u001b[0m\u001b[0mb\u001b[0m \u001b[0;34m=\u001b[0m \u001b[0minput\u001b[0m\u001b[0;34m(\u001b[0m\u001b[0;34m)\u001b[0m\u001b[0;34m.\u001b[0m\u001b[0msplit\u001b[0m\u001b[0;34m(\u001b[0m\u001b[0;34m)\u001b[0m\u001b[0;34m\u001b[0m\u001b[0;34m\u001b[0m\u001b[0m\n\u001b[0;32m----> 2\u001b[0;31m \u001b[0ma\u001b[0m\u001b[0;34m.\u001b[0m\u001b[0mastype\u001b[0m\u001b[0;34m(\u001b[0m\u001b[0;34m'float'\u001b[0m\u001b[0;34m)\u001b[0m\u001b[0;34m\u001b[0m\u001b[0;34m\u001b[0m\u001b[0m\n\u001b[0m\u001b[1;32m      3\u001b[0m \u001b[0mb\u001b[0m\u001b[0;34m.\u001b[0m\u001b[0mastype\u001b[0m\u001b[0;34m(\u001b[0m\u001b[0;34m'float'\u001b[0m\u001b[0;34m)\u001b[0m\u001b[0;34m\u001b[0m\u001b[0;34m\u001b[0m\u001b[0m\n\u001b[1;32m      4\u001b[0m \u001b[0;34m\u001b[0m\u001b[0m\n\u001b[1;32m      5\u001b[0m \u001b[0;32mif\u001b[0m \u001b[0ma\u001b[0m\u001b[0;34m>\u001b[0m\u001b[0;36m0\u001b[0m \u001b[0;32mand\u001b[0m \u001b[0mb\u001b[0m\u001b[0;34m<\u001b[0m\u001b[0;36m10\u001b[0m \u001b[0;34m:\u001b[0m\u001b[0;34m\u001b[0m\u001b[0;34m\u001b[0m\u001b[0m\n",
            "\u001b[0;31mAttributeError\u001b[0m: 'str' object has no attribute 'astype'"
          ]
        }
      ]
    },
    {
      "cell_type": "markdown",
      "metadata": {
        "id": "NclsUCeRY6lM"
      },
      "source": [
        "map 함수를 통해 이를 해결할 수 있어보인다"
      ]
    },
    {
      "cell_type": "code",
      "metadata": {
        "colab": {
          "base_uri": "https://localhost:8080/"
        },
        "id": "cMSJ35v-Y5DO",
        "outputId": "bd660e20-95c2-4842-cc58-1deb578d963e"
      },
      "source": [
        "a,b = map(float,input().split())\n",
        "\n",
        "if a>0 and b<10 :\n",
        "  print(a+b)"
      ],
      "execution_count": 16,
      "outputs": [
        {
          "output_type": "stream",
          "name": "stdout",
          "text": [
            "5 6\n",
            "11.0\n"
          ]
        }
      ]
    },
    {
      "cell_type": "markdown",
      "metadata": {
        "id": "X38tyEHWVd7M"
      },
      "source": [
        "정수형으로 반환해야하므로 print문에 int형 지정"
      ]
    },
    {
      "cell_type": "code",
      "metadata": {
        "colab": {
          "base_uri": "https://localhost:8080/"
        },
        "id": "Hd2dxtVbV_lZ",
        "outputId": "1b605c40-268d-4368-c541-1ea5488866e0"
      },
      "source": [
        "a,b = map(float,input().split())\n",
        "\n",
        "if a>0 and b<10 :\n",
        "  print(int(a)+int(b))"
      ],
      "execution_count": 18,
      "outputs": [
        {
          "output_type": "stream",
          "name": "stdout",
          "text": [
            "5 6\n",
            "11\n"
          ]
        }
      ]
    },
    {
      "cell_type": "markdown",
      "metadata": {
        "id": "_OSAsRYrXAzx"
      },
      "source": [
        "정답 \n",
        "코드길이 : 3B 감소 "
      ]
    }
  ]
}